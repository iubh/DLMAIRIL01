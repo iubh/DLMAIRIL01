{
  "nbformat": 4,
  "nbformat_minor": 0,
  "metadata": {
    "colab": {
      "name": "CartPoleQNet.ipynb",
      "provenance": [],
      "collapsed_sections": [],
      "toc_visible": true
    },
    "kernelspec": {
      "name": "python3",
      "display_name": "Python 3"
    },
    "accelerator": "GPU"
  },
  "cells": [
    {
      "cell_type": "markdown",
      "metadata": {
        "id": "xGi2iZms79nX",
        "colab_type": "text"
      },
      "source": [
        "# CartPole\n",
        "\n",
        "\n",
        "Note: This example follows the book \"A. Geron (2019), Hands-on Machine Learning with Scikit-learn, Keras & TensorFlow\" O'Reilly.\n",
        "\n",
        "An episode ends when either:\n",
        "   * the angle of the pole is more than $\\pm 12^\\circ$\n",
        "   * the cart reaches the either end of the environment\n",
        "   * episode length is larger than 500 steps (for v1)\n",
        "\n",
        "The reward we obtain from the environment is quite simple: For each interaction where the pole does not tip over, we obtain a constant reward of 1."
      ]
    },
    {
      "cell_type": "code",
      "metadata": {
        "id": "gq6MWTRi7eBW",
        "colab_type": "code",
        "outputId": "2cbcf699-b2ca-412c-bfd0-d476d54d048c",
        "colab": {
          "base_uri": "https://localhost:8080/",
          "height": 102
        }
      },
      "source": [
        "# required imports\n",
        "\n",
        "import gym\n",
        "import numpy as np\n",
        "import random\n",
        "\n",
        "# for replay buffer\n",
        "from collections import deque\n",
        "\n",
        "import matplotlib.pyplot as plt\n",
        "%pylab inline\n",
        "# large figures\n",
        "rcParams['figure.figsize'] = 8, 6\n",
        "\n",
        "# TensorFlow\n",
        "import tensorflow as tf\n",
        "from tensorflow.keras import layers\n",
        "\n",
        "\n",
        "#\n",
        "# for animations\n",
        "#\n",
        "# clear the output of the cell to avoid long output lists\n",
        "# see http://ipython.org/ipython-doc/dev/api/generated/IPython.display.html#IPython.display.clear_output\n",
        "from IPython.display import clear_output\n",
        "\n",
        "# for the animation at the end\n",
        "from matplotlib import animation\n",
        "from IPython.display import display\n",
        "import time\n",
        "\n",
        "\n",
        "#check if running in Google Colab\n",
        "import sys\n",
        "in_colab = 'google.colab' in sys.modules\n",
        "if in_colab:\n",
        "  print('Running in Google Colaboratory')\n"
      ],
      "execution_count": 1,
      "outputs": [
        {
          "output_type": "stream",
          "text": [
            "Populating the interactive namespace from numpy and matplotlib\n"
          ],
          "name": "stdout"
        },
        {
          "output_type": "stream",
          "text": [
            "/usr/local/lib/python3.6/dist-packages/IPython/core/magics/pylab.py:161: UserWarning: pylab import has clobbered these variables: ['random']\n",
            "`%matplotlib` prevents importing * from pylab and numpy\n",
            "  \"\\n`%matplotlib` prevents importing * from pylab and numpy\"\n"
          ],
          "name": "stderr"
        },
        {
          "output_type": "stream",
          "text": [
            "Running in Google Colaboratory\n"
          ],
          "name": "stdout"
        }
      ]
    },
    {
      "cell_type": "markdown",
      "metadata": {
        "id": "yV7XJHayE8hw",
        "colab_type": "text"
      },
      "source": [
        "If we run the notebook locally, we have have a display accessible already\n",
        "(although you might need to run am X11 server if you are on a Windows machine, \n",
        "you will have one running anyway on Linux).\n",
        "\n",
        "However, if we connect to the notebook remotely via a server, for \n",
        "example via myBinder or in Google's Colaboratory, we don't have access\n",
        "to the graphics output.\n",
        "We can still access the graphics output by creating a virtual display\n",
        "using the python package ```pyvirtualdisplay``` which is a python\n",
        "wrapper around the special X server [Xvfb](https://www.x.org/releases/X11R7.6/doc/man/man1/Xvfb.1.xhtml) that can run without graphics hardware.\n",
        "\n",
        "If we then want to render the OpenAI gym environment, we can create \n",
        "an RRB image and display this.\n",
        "\n",
        "Running the notebook within Google's Colaboratory requires\n",
        "the installation of some non-default packages as well as\n",
        "the X-server. This is already done in other environments.\n",
        "See [D. Pugh's post](https://davidrpugh.github.io/stochastic-expatriate-descent/openai/binder/google-colab/2020/04/16/remote-rendering-gym-envs.html)\n",
        "for more details"
      ]
    },
    {
      "cell_type": "code",
      "metadata": {
        "id": "9CKzVWD09Rpe",
        "colab_type": "code",
        "outputId": "2582c33f-26e1-4256-b968-9289bef41f6b",
        "colab": {
          "base_uri": "https://localhost:8080/",
          "height": 1000
        }
      },
      "source": [
        "if in_colab:\n",
        "  print('Setting up graphics environment')\n",
        "  !apt-get install -y xvfb x11-utils\n",
        "  !pip3 install pyvirtualdisplay==0.2.* PyOpenGL==3.1.* PyOpenGL-accelerate==3.1.*\n",
        "  # we need an updated version of pyglet to display the graphics\n",
        "  # this will give (at the moment) a compatibilty warning from OpenAI gym - \n",
        "  # but it still works.\n",
        "  !pip3 install pyglet==1.5.5\n",
        "###\n",
        "\n",
        "#setup virtual display\n",
        "import pyvirtualdisplay\n",
        "_display = pyvirtualdisplay.Display(visible=False,  # use False with Xvfb\n",
        "                                    size=(1400, 900))\n",
        "_ = _display.start()\n",
        "!echo $DISPLAY"
      ],
      "execution_count": 2,
      "outputs": [
        {
          "output_type": "stream",
          "text": [
            "Setting up graphics environment\n",
            "Reading package lists... Done\n",
            "Building dependency tree       \n",
            "Reading state information... Done\n",
            "The following additional packages will be installed:\n",
            "  libxxf86dga1\n",
            "Suggested packages:\n",
            "  mesa-utils\n",
            "The following NEW packages will be installed:\n",
            "  libxxf86dga1 x11-utils xvfb\n",
            "0 upgraded, 3 newly installed, 0 to remove and 31 not upgraded.\n",
            "Need to get 993 kB of archives.\n",
            "After this operation, 2,977 kB of additional disk space will be used.\n",
            "Get:1 http://archive.ubuntu.com/ubuntu bionic/main amd64 libxxf86dga1 amd64 2:1.1.4-1 [13.7 kB]\n",
            "Get:2 http://archive.ubuntu.com/ubuntu bionic/main amd64 x11-utils amd64 7.7+3build1 [196 kB]\n",
            "Get:3 http://archive.ubuntu.com/ubuntu bionic-updates/universe amd64 xvfb amd64 2:1.19.6-1ubuntu4.4 [784 kB]\n",
            "Fetched 993 kB in 1s (795 kB/s)\n",
            "Selecting previously unselected package libxxf86dga1:amd64.\n",
            "(Reading database ... 144433 files and directories currently installed.)\n",
            "Preparing to unpack .../libxxf86dga1_2%3a1.1.4-1_amd64.deb ...\n",
            "Unpacking libxxf86dga1:amd64 (2:1.1.4-1) ...\n",
            "Selecting previously unselected package x11-utils.\n",
            "Preparing to unpack .../x11-utils_7.7+3build1_amd64.deb ...\n",
            "Unpacking x11-utils (7.7+3build1) ...\n",
            "Selecting previously unselected package xvfb.\n",
            "Preparing to unpack .../xvfb_2%3a1.19.6-1ubuntu4.4_amd64.deb ...\n",
            "Unpacking xvfb (2:1.19.6-1ubuntu4.4) ...\n",
            "Setting up xvfb (2:1.19.6-1ubuntu4.4) ...\n",
            "Setting up libxxf86dga1:amd64 (2:1.1.4-1) ...\n",
            "Setting up x11-utils (7.7+3build1) ...\n",
            "Processing triggers for man-db (2.8.3-2ubuntu0.1) ...\n",
            "Processing triggers for libc-bin (2.27-3ubuntu1) ...\n",
            "/sbin/ldconfig.real: /usr/local/lib/python3.6/dist-packages/ideep4py/lib/libmkldnn.so.0 is not a symbolic link\n",
            "\n",
            "Collecting pyvirtualdisplay==0.2.*\n",
            "  Downloading https://files.pythonhosted.org/packages/69/ec/8221a07850d69fa3c57c02e526edd23d18c7c05d58ed103e3b19172757c1/PyVirtualDisplay-0.2.5-py2.py3-none-any.whl\n",
            "Requirement already satisfied: PyOpenGL==3.1.* in /usr/local/lib/python3.6/dist-packages (3.1.5)\n",
            "Collecting PyOpenGL-accelerate==3.1.*\n",
            "\u001b[?25l  Downloading https://files.pythonhosted.org/packages/a2/3c/f42a62b7784c04b20f8b88d6c8ad04f4f20b0767b721102418aad94d8389/PyOpenGL-accelerate-3.1.5.tar.gz (538kB)\n",
            "\u001b[K     |████████████████████████████████| 542kB 5.7MB/s \n",
            "\u001b[?25hCollecting EasyProcess\n",
            "  Downloading https://files.pythonhosted.org/packages/48/3c/75573613641c90c6d094059ac28adb748560d99bd27ee6f80cce398f404e/EasyProcess-0.3-py2.py3-none-any.whl\n",
            "Building wheels for collected packages: PyOpenGL-accelerate\n",
            "  Building wheel for PyOpenGL-accelerate (setup.py) ... \u001b[?25l\u001b[?25hdone\n",
            "  Created wheel for PyOpenGL-accelerate: filename=PyOpenGL_accelerate-3.1.5-cp36-cp36m-linux_x86_64.whl size=1593684 sha256=4660e5dcabddd4a34e8118e91ce4c624ee0efa4625ef7d7e0c541c597a419bd2\n",
            "  Stored in directory: /root/.cache/pip/wheels/bd/21/77/99670ceca25fddb3c2b60a7ae44644b8253d1006e8ec417bcc\n",
            "Successfully built PyOpenGL-accelerate\n",
            "Installing collected packages: EasyProcess, pyvirtualdisplay, PyOpenGL-accelerate\n",
            "Successfully installed EasyProcess-0.3 PyOpenGL-accelerate-3.1.5 pyvirtualdisplay-0.2.5\n",
            "Collecting pyglet==1.5.5\n",
            "\u001b[?25l  Downloading https://files.pythonhosted.org/packages/ff/0b/6a827e16722f24f1050b349a4d8c8b08c0c280da165f55c35616177c91c5/pyglet-1.5.5-py3-none-any.whl (1.0MB)\n",
            "\u001b[K     |████████████████████████████████| 1.1MB 4.7MB/s \n",
            "\u001b[31mERROR: gym 0.17.2 has requirement pyglet<=1.5.0,>=1.4.0, but you'll have pyglet 1.5.5 which is incompatible.\u001b[0m\n",
            "\u001b[?25hInstalling collected packages: pyglet\n",
            "  Found existing installation: pyglet 1.5.0\n",
            "    Uninstalling pyglet-1.5.0:\n",
            "      Successfully uninstalled pyglet-1.5.0\n",
            "Successfully installed pyglet-1.5.5\n",
            ":1001\n"
          ],
          "name": "stdout"
        }
      ]
    },
    {
      "cell_type": "markdown",
      "metadata": {
        "id": "sqMq-Z2A8s_x",
        "colab_type": "text"
      },
      "source": [
        "We can now initialize the environment and have a look at what it looks like."
      ]
    },
    {
      "cell_type": "code",
      "metadata": {
        "id": "Sj7XiZaNB2sL",
        "colab_type": "code",
        "outputId": "7b1567e2-febb-494f-8ebd-16e95818ece1",
        "colab": {
          "base_uri": "https://localhost:8080/",
          "height": 269
        }
      },
      "source": [
        "env = gym.make('CartPole-v1') \n",
        "state = env.reset()\n",
        "plt.imshow(env.render(mode='rgb_array'))\n",
        "plt.show()"
      ],
      "execution_count": 3,
      "outputs": [
        {
          "output_type": "display_data",
          "data": {
            "image/png": "[encoded data removed]",
            "text/plain": [
              "<Figure size 432x288 with 1 Axes>"
            ]
          },
          "metadata": {
            "tags": [],
            "needs_background": "light"
          }
        }
      ]
    },
    {
      "cell_type": "markdown",
      "metadata": {
        "id": "a0q_8JmkHMLv",
        "colab_type": "text"
      },
      "source": [
        "Each state is represented by an array of four numbers:\n",
        "   * the $x$ position of the cart, 0.0 represents the center.\n",
        "   * velocity of the cart (positive towards right)\n",
        "   * angle of the pole (0.0 represents horizontal)\n",
        "   * angular velocity (positive is clock-wise)"
      ]
    },
    {
      "cell_type": "code",
      "metadata": {
        "id": "Z1RSSvF2HJdv",
        "colab_type": "code",
        "outputId": "b53b3f50-a9c2-47d1-d7e0-397d517b698a",
        "colab": {
          "base_uri": "https://localhost:8080/",
          "height": 34
        }
      },
      "source": [
        "print(state)"
      ],
      "execution_count": 4,
      "outputs": [
        {
          "output_type": "stream",
          "text": [
            "[-0.01689633 -0.04950403 -0.00930926  0.02754969]\n"
          ],
          "name": "stdout"
        }
      ]
    },
    {
      "cell_type": "markdown",
      "metadata": {
        "id": "k3WEvI1vISnn",
        "colab_type": "text"
      },
      "source": [
        "There are two possible actions:\n",
        "   * push cart to the left\n",
        "   * push cart to the right\n"
      ]
    },
    {
      "cell_type": "code",
      "metadata": {
        "id": "M_tXiq4-IbfM",
        "colab_type": "code",
        "outputId": "a829d8ff-c870-4fb3-df59-662faa827135",
        "colab": {
          "base_uri": "https://localhost:8080/",
          "height": 34
        }
      },
      "source": [
        "print(env.action_space)"
      ],
      "execution_count": 5,
      "outputs": [
        {
          "output_type": "stream",
          "text": [
            "Discrete(2)\n"
          ],
          "name": "stdout"
        }
      ]
    },
    {
      "cell_type": "markdown",
      "metadata": {
        "id": "BWKX976vJWA5",
        "colab_type": "text"
      },
      "source": [
        "Let's try an action manually and push the cart to the right"
      ]
    },
    {
      "cell_type": "code",
      "metadata": {
        "id": "Z5YGRZ12Jl_2",
        "colab_type": "code",
        "outputId": "f8c3e449-b5ab-4757-828c-00deffea7e1f",
        "colab": {
          "base_uri": "https://localhost:8080/",
          "height": 337
        }
      },
      "source": [
        "action = 1\n",
        "next_state, reward, done, info = env.step(action)\n",
        "print('new state  {}'.format(next_state))\n",
        "print('reward     {}'.format(reward))\n",
        "print('done       {}'.format(done))\n",
        "print('debug info {}'.format(info))\n",
        "plt.imshow(env.render(mode='rgb_array'))\n",
        "plt.show()"
      ],
      "execution_count": 6,
      "outputs": [
        {
          "output_type": "stream",
          "text": [
            "new state  [-0.01788641  0.14575018 -0.00875826 -0.26805581]\n",
            "reward     1.0\n",
            "done       False\n",
            "debug info {}\n"
          ],
          "name": "stdout"
        },
        {
          "output_type": "display_data",
          "data": {
            "image/png": "[encoded data removed]",
            "text/plain": [
              "<Figure size 432x288 with 1 Axes>"
            ]
          },
          "metadata": {
            "tags": [],
            "needs_background": "light"
          }
        }
      ]
    },
    {
      "cell_type": "markdown",
      "metadata": {
        "id": "2G4vHpBx6HaR",
        "colab_type": "text"
      },
      "source": [
        "Let's look at a small animation of the cart if we push it\n",
        "around choosing whether to push left or right at random. We will soon notice that the pole starts to fall over and the episode ends."
      ]
    },
    {
      "cell_type": "code",
      "metadata": {
        "id": "SDoo8VTW3977",
        "colab_type": "code",
        "outputId": "26bcc232-1461-458a-894f-9848eb0a770e",
        "colab": {
          "base_uri": "https://localhost:8080/",
          "height": 354
        }
      },
      "source": [
        "frames = []\n",
        "state  = env.reset()\n",
        "\n",
        "for i in range(0,100):\n",
        "\n",
        "  #choose action at random\n",
        "  action = env.action_space.sample() # choose random action\n",
        "  new_state, reward, done, info = env.step(action)\n",
        "  state = new_state\n",
        "\n",
        "\n",
        "\n",
        "  frames.append({\n",
        "      'frame'  : env.render(mode='rgb_array'),\n",
        "      'state'  : state,\n",
        "      'action' : action,\n",
        "      'reward' : reward,\n",
        "      'done'   : done\n",
        "  })\n",
        "\n",
        "  if done:\n",
        "    break\n",
        "\n",
        "for i, frame in enumerate(frames):\n",
        "  clear_output(wait=True)\n",
        "  plt.imshow((frame['frame']))\n",
        "  plt.show()\n",
        "  print(f\"Timestep: {i}\")\n",
        "  print(f\"State   : {frame['state']}\")\n",
        "  print(f\"Action  : {frame['action']}\")\n",
        "  print(f\"Reward  : {frame['reward']}\")\n",
        "  print(f\"Done    : {frame['done']}\")"
      ],
      "execution_count": 7,
      "outputs": [
        {
          "output_type": "display_data",
          "data": {
            "image/png": "[encoded data removed]",
            "text/plain": [
              "<Figure size 432x288 with 1 Axes>"
            ]
          },
          "metadata": {
            "tags": [],
            "needs_background": "light"
          }
        },
        {
          "output_type": "stream",
          "text": [
            "Timestep: 20\n",
            "State   : [ 0.08588256  0.23579649 -0.22036075 -0.93421148]\n",
            "Action  : 1\n",
            "Reward  : 1.0\n",
            "Done    : True\n"
          ],
          "name": "stdout"
        }
      ]
    },
    {
      "cell_type": "markdown",
      "metadata": {
        "id": "Iwb_TWziQwy-",
        "colab_type": "text"
      },
      "source": [
        "Let's have a look how good such a random policy is.\n",
        "We run the entire process for 200 episodes until the pole falls over (or we reach a maxium of 100 steps).\n",
        "\n",
        "As we can see below, the pole falls over faily quickly - although the distribution has a long tail: Very rarely we manage to keep the pole up more than 50 steps"
      ]
    },
    {
      "cell_type": "code",
      "metadata": {
        "id": "Hyvb1-B3OQGU",
        "colab_type": "code",
        "colab": {}
      },
      "source": [
        "nStepsRandom = []\n",
        "max_iter = 150\n",
        "\n",
        "for episode in range(0,200):\n",
        "  env.reset()\n",
        "  for i in range(0,max_iter):\n",
        "\n",
        "    #choose action at random\n",
        "    action = env.action_space.sample() # choose random action\n",
        "    new_state, reward, done, info = env.step(action)\n",
        "    state = new_state\n",
        "\n",
        "    \n",
        "\n",
        "    if done:\n",
        "      nStepsRandom.append(i)\n",
        "      break\n",
        "\n"
      ],
      "execution_count": 0,
      "outputs": []
    },
    {
      "cell_type": "code",
      "metadata": {
        "id": "5mYjzrXlRQFT",
        "colab_type": "code",
        "outputId": "1e10bbfd-feaf-4eeb-935d-42ee106ea819",
        "colab": {
          "base_uri": "https://localhost:8080/",
          "height": 279
        }
      },
      "source": [
        "plt.hist(nStepsRandom)\n",
        "plt.xlim(0, max_iter)\n",
        "plt.xlabel('number of steps in episode')\n",
        "plt.ylabel('frequency')\n",
        "plt.show()"
      ],
      "execution_count": 9,
      "outputs": [
        {
          "output_type": "display_data",
          "data": {
            "image/png": "[encoded data removed]",
            "text/plain": [
              "<Figure size 432x288 with 1 Axes>"
            ]
          },
          "metadata": {
            "tags": [],
            "needs_background": "light"
          }
        }
      ]
    },
    {
      "cell_type": "markdown",
      "metadata": {
        "id": "z3odETnw7-ns",
        "colab_type": "text"
      },
      "source": [
        "## Q-learning with neural networks\n",
        "\n",
        "We now use Q-learning to train an agent how to move the cart around such that the pole stays upright.\n",
        "Instead of a tabular approach, we will use a neural network.\n",
        "\n",
        "### Model definition\n",
        "The network will take the state information observed from the environenment via ```step.step(action)``` as input. As seen before, this is an array of four numbers. \n",
        "We can obtain the shape of the input tensor from ```env.observation_space.shape```.\n",
        "\n",
        "The network has to predict which action to take. Since we have two actions, our action space has the dimension ```env.action_space.n```\n",
        "\n",
        "We will use a small dense neural network with one hidden layer.\n"
      ]
    },
    {
      "cell_type": "code",
      "metadata": {
        "id": "W3PeJBTr73if",
        "colab_type": "code",
        "outputId": "2fbe4a7a-738e-491b-ed45-20718c946519",
        "colab": {
          "base_uri": "https://localhost:8080/",
          "height": 289
        }
      },
      "source": [
        "input_shape = env.observation_space.shape\n",
        "n_output    = env.action_space.n\n",
        "\n",
        "n_nodes = 32\n",
        "batch_size = 32\n",
        "optimizer = tf.keras.optimizers.Adam(lr=1E-3)\n",
        "loss_fn = tf.keras.losses.mean_squared_error\n",
        "\n",
        "# Q learning discount factor\n",
        "discount_factor = 0.95\n",
        "\n",
        "print('Input shape : {}'.format(input_shape))\n",
        "print('Size of action space: {}'.format(n_output))\n",
        "\n",
        "model = tf.keras.Sequential(name='DeepQ')\n",
        "model.add(layers.Dense(units=n_nodes, activation=tf.nn.elu, input_shape=input_shape))\n",
        "model.add(layers.Dense(units=n_nodes, activation=tf.nn.elu))\n",
        "model.add(layers.Dense(units=n_output))\n",
        "\n",
        "model.summary()\n"
      ],
      "execution_count": 10,
      "outputs": [
        {
          "output_type": "stream",
          "text": [
            "Input shape : (4,)\n",
            "Size of action space: 2\n",
            "Model: \"DeepQ\"\n",
            "_________________________________________________________________\n",
            "Layer (type)                 Output Shape              Param #   \n",
            "=================================================================\n",
            "dense (Dense)                (None, 32)                160       \n",
            "_________________________________________________________________\n",
            "dense_1 (Dense)              (None, 32)                1056      \n",
            "_________________________________________________________________\n",
            "dense_2 (Dense)              (None, 2)                 66        \n",
            "=================================================================\n",
            "Total params: 1,282\n",
            "Trainable params: 1,282\n",
            "Non-trainable params: 0\n",
            "_________________________________________________________________\n"
          ],
          "name": "stdout"
        }
      ]
    },
    {
      "cell_type": "markdown",
      "metadata": {
        "id": "nSG55sdx95vE",
        "colab_type": "text"
      },
      "source": [
        "### Replay buffer\n",
        "\n",
        "We now define the replay buffer in which we store all interactions with the environment. This helps to train the network more efficiently.\n",
        "\n",
        "We also need to define a small helper function that samples the replay buffer and returns five arrays that contain the output of each ```env.step(action)``` command, i.e. ```state```, ```reward```, ```next_state```, ```done```, \n",
        "as well as the action we have taken when we executed ```env.step(action)```.\n",
        "We will not store the debugging info in the replay buffer.\n"
      ]
    },
    {
      "cell_type": "code",
      "metadata": {
        "id": "iFPMzCrI-Aqa",
        "colab_type": "code",
        "colab": {}
      },
      "source": [
        "def sample_experience(batch_size = 32):\n",
        "  #first we get a list of random indices to sample the replay buffer\n",
        "  indices = np.random.randint(low = 0,\n",
        "                              high = len(replay_buffer),\n",
        "                              size = batch_size)\n",
        "  #now we create a list containing a list of experiences from the environment \n",
        "  #of length batch_size\n",
        "  batch = [replay_buffer[index] for index in indices]\n",
        "\n",
        "  #then from each batch we access the individual experience tuple (state, action,\n",
        "  #reward, done) and put these into five separate arrays\n",
        "  states, actions, rewards, next_states, dones = [\n",
        "    np.array( [ experience[i] for experience in batch])\n",
        "    for i in range(0,5)\n",
        "    ]\n",
        "  return states, actions, rewards, next_states, dones"
      ],
      "execution_count": 0,
      "outputs": []
    },
    {
      "cell_type": "markdown",
      "metadata": {
        "id": "VmQezWYPAr9a",
        "colab_type": "text"
      },
      "source": [
        "### Policy\n",
        "\n",
        "We will use an $\\epsilon$ greedy policy where we take the best known action according to the Q-value with probability $P = 1-\\epsilon$ and choose an action at random with probability $\\epsilon$ to explore how the environment reacts to the actions taken by the agent.\n"
      ]
    },
    {
      "cell_type": "code",
      "metadata": {
        "id": "2t1r5NNTBYSB",
        "colab_type": "code",
        "colab": {}
      },
      "source": [
        "def policy(state, epsilon=0.0):\n",
        "  if np.random.rand() < epsilon:\n",
        "    return np.random.randint(2)\n",
        "  else:\n",
        "    # obtain the current best Q values from the DeepQ network\n",
        "    Q_values = model.predict(state[np.newaxis])\n",
        "    # take the action that results in the highest Q value\n",
        "    return np.argmax(Q_values[0])\n",
        "\n"
      ],
      "execution_count": 0,
      "outputs": []
    },
    {
      "cell_type": "markdown",
      "metadata": {
        "id": "T8ubxU7aEcyo",
        "colab_type": "text"
      },
      "source": [
        "### Training step\n",
        "\n",
        "We now need to define how we train the DeepQ network.\n",
        "\n",
        "First we define a small helper function that executes one action, records the response from the environment in the replay buffer and returns it to the calling function\n",
        "\n",
        "Then we define the main training loop were we define ourselves how the update rule for the Q-learning is used in supervised learning via gradient descent via ```GradientTape``` in TensorFlow.\n",
        "\n",
        "The training target is defined according to the Q-value update rule as:\n",
        "$$Q_{\\mathrm{target}} = \\mathrm{reward} + \\mathrm{discount \\, factor} \\cdot \\mathrm{max}_{a^\\prime} Q_{\\theta}(s^\\prime, a^\\prime)$$\n",
        "\n",
        "Since the reward obtained per successful step where the pole does not tip over is quite simple (a constant reward $r=1$ is obtained), the sum of the rewards is simply the number of steps we can take in a single episode.\n",
        "The highest this value gets, the better the DeepQ network is.\n",
        "In order so retain the best model, we save the weights into the variable\n",
        "```best_weights```"
      ]
    },
    {
      "cell_type": "code",
      "metadata": {
        "id": "Bc8ONTElFE1i",
        "colab_type": "code",
        "colab": {}
      },
      "source": [
        "def play_one_step(env, state, epsilon):\n",
        "  # get the action according to the epsilon-greedy policy\n",
        "  action = policy(state, epsilon)\n",
        "\n",
        "  # interact with the environment\n",
        "  next_state, reward, done, info = env.step(action)\n",
        "\n",
        "  #append experience to replay buffer\n",
        "  replay_buffer.append((state, action, reward, next_state, done))\n",
        "\n",
        "  return next_state, reward, done, info\n",
        "\n",
        "\n",
        "def train(batch_size):\n",
        "  # get a number of experiences from the replay buffer for training\n",
        "  experiences = sample_experience(batch_size)\n",
        "  states, actions, rewards, next_states, dones = experiences\n",
        "\n",
        "  #use the DeepQ network to obtain Q-values for the next states\n",
        "  # (remember that we always execute everything for batch_size number of experience tuples)\n",
        "  next_Q_values = model.predict(next_states)\n",
        "\n",
        "  #get the highest Q-value we can obtain for the next states\n",
        "  max_next_Q_values = np.max(next_Q_values, axis = 1)\n",
        "\n",
        "  # define training target\n",
        "  target_Q_values = (rewards + (1 - dones)*discount_factor*max_next_Q_values)\n",
        "\n",
        "  # the network will predict the Q-values for \n",
        "  target_Q_values = target_Q_values.reshape(-1, 1)\n",
        "\n",
        "  # The DeepQ network will predict the Q-value for all possible actions\n",
        "  # not just the one we used. So we create a mask that consists\n",
        "  # of all the actions we have actually taken in the experiences we\n",
        "  # obtained from the replay buffer. This mask can then be applied\n",
        "  # to the prediction to obtain the Q-values to the actions we have taken\n",
        "  # (and ignore the rest)\n",
        "  mask = tf.one_hot(actions, n_output)\n",
        "\n",
        "  # now do the gradient descent step\n",
        "  with tf.GradientTape() as tape:\n",
        "    #obtain predictions as tensor (instead of numpy arrays)\n",
        "    all_Q_values = model(states)\n",
        "    \n",
        "    #apply the mask\n",
        "    Q_values = tf.reduce_sum(all_Q_values * mask, axis=1, keepdims=True)\n",
        "\n",
        "    # compute the loss function, i.e. the mean squared error\n",
        "    # of the target values and the prediction (y_hat -y)^2\n",
        "    loss = tf.reduce_mean(loss_fn(target_Q_values, Q_values))\n",
        "\n",
        "  # do the actual gradient descent by computing the gradient and\n",
        "  # handing this to the optimizer to compute the next best values of the\n",
        "  # network parameters (weights)  \n",
        "  grads = tape.gradient(loss, model.trainable_variables)\n",
        "  optimizer.apply_gradients(zip(grads, model.trainable_variables))"
      ],
      "execution_count": 0,
      "outputs": []
    },
    {
      "cell_type": "markdown",
      "metadata": {
        "id": "fghyYmtMBG11",
        "colab_type": "text"
      },
      "source": [
        "Now do the actual training.\n",
        "We fix the random seeds so that we always start from the same definition\n",
        "of the environment, random numbers, etc.\n",
        "\n",
        "The parameter $\\epsilon$ of the greedy policy is decreased throughout the training. We start with a high value to sample the response from the environemnt and then decrease the value to exploit the optimal options as the Q-network learns.\n",
        "\n",
        "In the beginning, the replay buffer is empty. \n",
        "We first use 50 \"burn-in\" iterations where we interact with the environment without network training to fill the buffer a bit so that the network has sufficient experiences to train on."
      ]
    },
    {
      "cell_type": "code",
      "metadata": {
        "id": "fPYnSKLYGXvm",
        "colab_type": "code",
        "outputId": "51e6da4e-bceb-42c3-a5bb-152f1b5b24fc",
        "colab": {
          "base_uri": "https://localhost:8080/",
          "height": 34
        }
      },
      "source": [
        "# setup a replay buffer\n",
        "len_replay = 2000\n",
        "replay_buffer = deque(maxlen=len_replay)\n",
        "\n",
        "# fix the environment (ensure reproducibility between runs,\n",
        "# remember to reset the model as well otherwise training\n",
        "# will resume with the previous weights)\n",
        "env.seed(42)\n",
        "np.random.seed(42)\n",
        "tf.random.set_seed(42)\n",
        "\n",
        "rewards = [] \n",
        "best_score = 0\n",
        "\n",
        "for episode in range(600):\n",
        "    obs = env.reset()    \n",
        "    for step in range(200):\n",
        "\n",
        "        # set the parameter for the epsilon greedy policy:\n",
        "        # in the beginning, the network needs to explore a lot, hence \n",
        "        # epsilon is fairly high. As the training progresses, we decrease\n",
        "        # the exploratory phase and favor the exploitation.\n",
        "        epsilon = max(1 - episode / 500, 0.01)\n",
        "\n",
        "        # execute the action, and add to replay buffer (see function earlier)\n",
        "        obs, reward, done, info = play_one_step(env, obs, epsilon)\n",
        "        if done:\n",
        "            break\n",
        "\n",
        "    # since a constant reward is obtained, the cumulative reward is \n",
        "    # simply the number of steps we managed to hold the pole up.\n",
        "    rewards.append(step) \n",
        "\n",
        "    # keep the best performing network that manages to keep the pole up/\n",
        "    if step > best_score: \n",
        "        best_weights = model.get_weights() \n",
        "        best_score = step \n",
        "    print(\"\\rEpisode: {}, Steps: {}, eps: {:.3f}\".format(episode, step + 1, epsilon), end=\"\")\n",
        "\n",
        "    # the replay buffer is empty at the beginning. Fill the replay buffer\n",
        "    # by running for 50 episodes as \"burn in\" without training first.\n",
        "    if episode > 50:\n",
        "        train(batch_size)\n",
        "\n",
        "#use the best model we have encountered during training.\n",
        "model.set_weights(best_weights)"
      ],
      "execution_count": 14,
      "outputs": [
        {
          "output_type": "stream",
          "text": [
            "Episode: 599, Steps: 22, eps: 0.010"
          ],
          "name": "stdout"
        }
      ]
    },
    {
      "cell_type": "markdown",
      "metadata": {
        "id": "SoiJ_m3KFwsE",
        "colab_type": "text"
      },
      "source": [
        "Let's have a look at the training process.\n",
        "In reinforcement learning, the loss function is typically not a good indicator of how well the network performs.\n",
        "\n",
        "Instead, we look at the cumulative reward, in this case, the length of the episode  until the pole tipped over.\n",
        "\n",
        "We notice a distinct structure where the network obtains a high reward  - followed by sequences of a very low reward. This is called \"catastrophic forgetting\" and one of the big challenges in neural network based reinforcement learning."
      ]
    },
    {
      "cell_type": "code",
      "metadata": {
        "id": "1dSl0eWJLXIL",
        "colab_type": "code",
        "outputId": "71cef841-abcc-4e1f-ab7a-42cc9f2e4e1a",
        "colab": {
          "base_uri": "https://localhost:8080/",
          "height": 283
        }
      },
      "source": [
        "plt.plot(rewards)\n",
        "plt.xlabel(\"Episode\", fontsize=14)\n",
        "plt.ylabel(\"Sum of rewards\", fontsize=14)\n",
        "plt.show()"
      ],
      "execution_count": 15,
      "outputs": [
        {
          "output_type": "display_data",
          "data": {
            "image/png": "[encoded data removed]",
            "text/plain": [
              "<Figure size 432x288 with 1 Axes>"
            ]
          },
          "metadata": {
            "tags": [],
            "needs_background": "light"
          }
        }
      ]
    },
    {
      "cell_type": "markdown",
      "metadata": {
        "id": "XbgQq8FbEseQ",
        "colab_type": "text"
      },
      "source": [
        "At this point we save the model into a single file in H5 format.\n",
        "(alternatively, we could use the TensorFlow format. However, this creates multiple directories and files which is not as practical if we want to move the model to a different environment.\n",
        "\n",
        "We can also load the model from the same file."
      ]
    },
    {
      "cell_type": "code",
      "metadata": {
        "id": "HzXp9uKJCi7n",
        "colab_type": "code",
        "colab": {
          "base_uri": "https://localhost:8080/",
          "height": 34
        },
        "outputId": "ae747dd0-8812-4741-8e5f-1a73c28e2e84"
      },
      "source": [
        "# save the entire model in a single H5 file\n",
        "#model.save('CartPoleModel.h5')\n",
        "\n",
        "#load the model\n",
        "#model = tf.keras.models.load_model('CartPoleModel.h5')"
      ],
      "execution_count": 18,
      "outputs": [
        {
          "output_type": "stream",
          "text": [
            "assets\tCartPoleModel  CartPoleModel.h5  sample_data  saved_model.pb  variables\n"
          ],
          "name": "stdout"
        }
      ]
    },
    {
      "cell_type": "markdown",
      "metadata": {
        "id": "R3OI2sY4NRrc",
        "colab_type": "text"
      },
      "source": [
        "## Run the Agent\n",
        "\n",
        "Now we use the network to predict which action the agent should take.\n",
        "\n",
        "Let's first look at a little animation"
      ]
    },
    {
      "cell_type": "code",
      "metadata": {
        "id": "Igjq9QQBNdK0",
        "colab_type": "code",
        "outputId": "edaaa36a-53de-4405-ee5e-c1c33eb68bf1",
        "colab": {
          "base_uri": "https://localhost:8080/",
          "height": 354
        }
      },
      "source": [
        "frames = []\n",
        "state  = env.reset()\n",
        "\n",
        "for i in range(max_iter):\n",
        "\n",
        "  #choose optimal action\n",
        "  action = policy(state)\n",
        "  new_state, reward, done, info = env.step(action)\n",
        "  state = new_state\n",
        "\n",
        "\n",
        "\n",
        "  frames.append({\n",
        "      'frame'  : env.render(mode='rgb_array'),\n",
        "      'state'  : state,\n",
        "      'action' : action,\n",
        "      'reward' : reward,\n",
        "      'done'   : done\n",
        "  })\n",
        "\n",
        "  if done:\n",
        "    break\n",
        "\n",
        "for i, frame in enumerate(frames):\n",
        "  clear_output(wait=True)\n",
        "  plt.imshow((frame['frame']))\n",
        "  plt.show()\n",
        "  print(f\"Timestep: {i}\")\n",
        "  print(f\"State   : {frame['state']}\")\n",
        "  print(f\"Action  : {frame['action']}\")\n",
        "  print(f\"Reward  : {frame['reward']}\")\n",
        "  print(f\"Done    : {frame['done']}\")"
      ],
      "execution_count": 19,
      "outputs": [
        {
          "output_type": "display_data",
          "data": {
            "image/png": "[encoded data removed]",
            "text/plain": [
              "<Figure size 432x288 with 1 Axes>"
            ]
          },
          "metadata": {
            "tags": [],
            "needs_background": "light"
          }
        },
        {
          "output_type": "stream",
          "text": [
            "Timestep: 96\n",
            "State   : [-0.08194565  0.57329455  0.21177855  0.17731596]\n",
            "Action  : 1\n",
            "Reward  : 1.0\n",
            "Done    : True\n"
          ],
          "name": "stdout"
        }
      ]
    },
    {
      "cell_type": "markdown",
      "metadata": {
        "id": "znWYMrA4QeZx",
        "colab_type": "text"
      },
      "source": [
        "Let's now run the agent for 200 episodes and look at the distribution of the highest rewards, i.e. the number of steps we managed to hold the pole upright.\n",
        "\n",
        "This is considerably better than what we obtained earlier when just choosing an action at random."
      ]
    },
    {
      "cell_type": "code",
      "metadata": {
        "id": "dUun1YNEO-II",
        "colab_type": "code",
        "colab": {}
      },
      "source": [
        "nStepsDQN = []\n",
        "\n",
        "for episode in range(0,200):\n",
        "  env.reset()\n",
        "  for i in range(max_iter):\n",
        "    action = policy(state)\n",
        "    new_state, reward, done, info = env.step(action)\n",
        "    state = new_state\n",
        "\n",
        "    if done:\n",
        "      nStepsDQN.append(i)\n",
        "      break\n",
        "\n"
      ],
      "execution_count": 0,
      "outputs": []
    },
    {
      "cell_type": "code",
      "metadata": {
        "id": "wi-0OqMeRpUy",
        "colab_type": "code",
        "outputId": "257ace60-dbef-4f92-83a9-a2d36afb5d93",
        "colab": {
          "base_uri": "https://localhost:8080/",
          "height": 279
        }
      },
      "source": [
        "plt.hist(nStepsDQN, label='Deep Q Network', color='blue')\n",
        "plt.hist(nStepsRandom, label='Random Action', color='red', alpha=0.7)\n",
        "plt.xlim(0,150)\n",
        "plt.xlabel('number of steps in episode')\n",
        "plt.ylabel('frequency')\n",
        "plt.legend()\n",
        "plt.show()"
      ],
      "execution_count": 21,
      "outputs": [
        {
          "output_type": "display_data",
          "data": {
            "image/png": "[encoded data removed]",
            "text/plain": [
              "<Figure size 432x288 with 1 Axes>"
            ]
          },
          "metadata": {
            "tags": [],
            "needs_background": "light"
          }
        }
      ]
    }
  ]
}