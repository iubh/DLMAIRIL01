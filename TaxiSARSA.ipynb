{
  "nbformat": 4,
  "nbformat_minor": 0,
  "metadata": {
    "colab": {
      "name": "TaxiSARSA.ipynb",
      "provenance": [],
      "collapsed_sections": []
    },
    "kernelspec": {
      "name": "python3",
      "display_name": "Python 3"
    }
  },
  "cells": [
    {
      "cell_type": "markdown",
      "metadata": {
        "id": "N8_Xu6OsVhM_",
        "colab_type": "text"
      },
      "source": [
        "# Taxi with SARSA\n",
        "\n",
        "This exercise uses the SARSA algorithm to solve the taxi problem in OpenAI Gym.\n",
        "SARSA is short for \"state-action-reward-state-action\" and is an on-policy algorithm where actions are chosen according to a specific policy.\n",
        "\n",
        "We will use a table based approach for the Q-values\n",
        "The overall algoritm is:\n",
        "* Initialize $Q(s,a)$ \n",
        "* Obtain initial state $s$\n",
        "* Repeat until terminal state is reached:\n",
        " * Choose action $a$ for state $s$ according a to specific policy (e.g. $\\epsilon$-greedy)\n",
        " * Take action $a$ and observe reward $r$ and new state $s^\\prime$.\n",
        " * Choose action $a^\\prime$ for new state $s^\\prime$ according to the same policy\n",
        " * Update $Q$ values $$Q(s,a) =  Q(s,a) + \\alpha \\left [r + \\gamma Q(s^\\prime,a^\\prime)  - Q(s,a) \\right ]  $$\n",
        " * set current state to new state: $s \\leftarrow s^\\prime$\n",
        " * set action to current action: $a \\leftarrow a^\\prime$.\n"
      ]
    },
    {
      "cell_type": "code",
      "metadata": {
        "id": "LiEnvEj9VauW",
        "colab_type": "code",
        "colab": {
          "base_uri": "https://localhost:8080/",
          "height": 85
        },
        "outputId": "ff93d5cd-838b-4261-f5c4-d6045ba6de45"
      },
      "source": [
        "# required imports\n",
        "\n",
        "import gym\n",
        "import numpy as np\n",
        "import random\n",
        "import matplotlib.pyplot as plt\n",
        "%pylab inline\n",
        "# large figures\n",
        "rcParams['figure.figsize'] = 8, 6\n",
        "\n",
        "# clear the output of the cell to avoid long output lists\n",
        "# see http://ipython.org/ipython-doc/dev/api/generated/IPython.display.html#IPython.display.clear_output\n",
        "from IPython.display import clear_output\n",
        "\n",
        "# for the animation at the end\n",
        "from matplotlib import animation\n",
        "from IPython.display import display\n",
        "import time"
      ],
      "execution_count": 37,
      "outputs": [
        {
          "output_type": "stream",
          "text": [
            "Populating the interactive namespace from numpy and matplotlib\n"
          ],
          "name": "stdout"
        },
        {
          "output_type": "stream",
          "text": [
            "/usr/local/lib/python3.6/dist-packages/IPython/core/magics/pylab.py:161: UserWarning: pylab import has clobbered these variables: ['random', 'gamma', 'info']\n",
            "`%matplotlib` prevents importing * from pylab and numpy\n",
            "  \"\\n`%matplotlib` prevents importing * from pylab and numpy\"\n"
          ],
          "name": "stderr"
        }
      ]
    },
    {
      "cell_type": "markdown",
      "metadata": {
        "id": "tFbIBrTaZEw6",
        "colab_type": "text"
      },
      "source": [
        "The environment consists of four points, the task is to pick up passengers at one point and deliver them to another.\n",
        "\n",
        "More details about the environment are found [here](https://gym.openai.com/envs/Taxi-v3/)"
      ]
    },
    {
      "cell_type": "code",
      "metadata": {
        "id": "0lvf1ul_X44C",
        "colab_type": "code",
        "colab": {
          "base_uri": "https://localhost:8080/",
          "height": 153
        },
        "outputId": "2ede92e7-ed01-4414-9fc3-e7103f2d0ab7"
      },
      "source": [
        "# initialize the environment\n",
        "\n",
        "env = gym.make('Taxi-v3')\n",
        "env.reset()\n",
        "env.render()"
      ],
      "execution_count": 38,
      "outputs": [
        {
          "output_type": "stream",
          "text": [
            "+---------+\n",
            "|\u001b[35mR\u001b[0m: | : :G|\n",
            "| : | : : |\n",
            "| : : : : |\n",
            "| | : |\u001b[43m \u001b[0m: |\n",
            "|Y| : |\u001b[34;1mB\u001b[0m: |\n",
            "+---------+\n",
            "\n"
          ],
          "name": "stdout"
        }
      ]
    },
    {
      "cell_type": "code",
      "metadata": {
        "id": "etS_0yewYUQX",
        "colab_type": "code",
        "colab": {
          "base_uri": "https://localhost:8080/",
          "height": 85
        },
        "outputId": "f3f589de-239b-439d-dd52-64bec6fbc186"
      },
      "source": [
        "n_actions = env.action_space.n\n",
        "n_states  = env.observation_space.n\n",
        "\n",
        "# there are two ways to obtain the number of actions:\n",
        "# env.nA and env.action_space.n\n",
        "print('Number of actions: {} / {}'.format(env.nA, n_actions))\n",
        "print('Action space: {}'.format(env.action_space))\n",
        "\n",
        "# there are two ways to obtain the numbers of states: \n",
        "# env.nS and env.observation_space.n\n",
        "print('Number of states: {} / {} '.format(env.nS, n_states))\n",
        "print('State space: {}'.format(env.observation_space))"
      ],
      "execution_count": 39,
      "outputs": [
        {
          "output_type": "stream",
          "text": [
            "Number of actions: 6 / 6\n",
            "Action space: Discrete(6)\n",
            "Number of states: 500 / 500 \n",
            "State space: Discrete(500)\n"
          ],
          "name": "stdout"
        }
      ]
    },
    {
      "cell_type": "markdown",
      "metadata": {
        "id": "Z8WkNTPUZ-gW",
        "colab_type": "text"
      },
      "source": [
        "## $\\epsilon$-greedy Policy\n",
        "\n",
        "define the $\\epsilon$-greedy policy to choose an action\n",
        "\n"
      ]
    },
    {
      "cell_type": "code",
      "metadata": {
        "id": "aBmkLsufaZ4K",
        "colab_type": "code",
        "colab": {}
      },
      "source": [
        "def policy(q_table, state, epsilon):\n",
        "    randNo = random.uniform(0,1)\n",
        "    if randNo < epsilon:\n",
        "      action = env.action_space.sample() # choose random action\n",
        "    else:\n",
        "      action = np.argmax(q_table[state,:]) # choose current best action\n",
        "    return action"
      ],
      "execution_count": 0,
      "outputs": []
    },
    {
      "cell_type": "markdown",
      "metadata": {
        "id": "clnjsNRbZvAy",
        "colab_type": "text"
      },
      "source": [
        "## SARSA Algorithm"
      ]
    },
    {
      "cell_type": "code",
      "metadata": {
        "id": "oD0oyAOBZyC2",
        "colab_type": "code",
        "colab": {
          "base_uri": "https://localhost:8080/",
          "height": 34
        },
        "outputId": "b4f1db09-bbc3-4a2a-c469-666bd6816a48"
      },
      "source": [
        "# greedy exploration probability\n",
        "eps = 0.3\n",
        "\n",
        "# learning rate\n",
        "alpha = 0.3\n",
        "\n",
        "#discount factor\n",
        "gamma = 0.95\n",
        "\n",
        "#number of episodes to train over:\n",
        "n_episodes = 10000\n",
        "\n",
        "#max number of steps in each episode\n",
        "max_steps = 2500\n",
        "\n",
        "# table of Q values\n",
        "q_table = np.zeros([env.nS, env.nA])\n",
        "#q_table = np.random.random((env.nS, env.nA))\n",
        "\n",
        "# counter for how long each epoch lasted\n",
        "epoch_list = []\n",
        "reward_list = []\n",
        "\n",
        "# loop over all episodes \n",
        "# (let the index run from 1 instead of 0 as we would count from 1)\n",
        "for i in range(1, n_episodes+1):\n",
        "  if i% 10 == 0:\n",
        "    clear_output(wait=True)\n",
        "    print('Now in episode {}'.format(i))\n",
        "\n",
        "  # initialize each new episode\n",
        "  s = env.reset()  # set the environment back to starting setting\n",
        "                   # this returns the first observation, i.e. the \n",
        "                   # starting state environment is in.\n",
        "  a = policy(q_table, s, eps) #obtain first action for this episode\n",
        "                         \n",
        "  epochs  = 0          # counter how long a given episode runs until it terminates\n",
        "  rSum    = 0          # overall reward for this episode\n",
        "  done    = False\n",
        "  j       = 0\n",
        "\n",
        "  # now interact with the environment until the episode ends\n",
        "  # i.e. we either reach the goal or fall into a hole\n",
        "  # protect against run-away processes and limit to 500 steps per episode\n",
        "  while j < max_steps:\n",
        "    j += 1\n",
        "    epochs += 1\n",
        "\n",
        "    #interact with environment\n",
        "    s_prime, reward, done, info = env.step(a)\n",
        "    rSum += reward\n",
        "\n",
        "    #choose action for new state s_prime according to policy\n",
        "    a_prime = policy(q_table, s_prime, eps)\n",
        "\n",
        "    #update Q-table\n",
        "    if done:\n",
        "      q_table[s, a] += alpha*(reward - q_table[s, a])\n",
        "    else:\n",
        "      q_table[s, a] += alpha*(\n",
        "          reward + (gamma*q_table[s_prime, a_prime] - q_table[s,a])\n",
        "      )\n",
        "\n",
        "    # set state, action to current values\n",
        "    s = s_prime\n",
        "    a = a_prime\n",
        "\n",
        "    #check if episode ends\n",
        "    if done:\n",
        "      epoch_list.append(epochs)\n",
        "      reward_list.append(rSum)\n",
        "      break\n",
        "\n",
        "\n"
      ],
      "execution_count": 45,
      "outputs": [
        {
          "output_type": "stream",
          "text": [
            "Now in episode 10000\n"
          ],
          "name": "stdout"
        }
      ]
    },
    {
      "cell_type": "markdown",
      "metadata": {
        "id": "JroHaxznd0ho",
        "colab_type": "text"
      },
      "source": [
        "Now a distribution of how long each episode was"
      ]
    },
    {
      "cell_type": "code",
      "metadata": {
        "id": "NopP2oWzd6J5",
        "colab_type": "code",
        "colab": {
          "base_uri": "https://localhost:8080/",
          "height": 404
        },
        "outputId": "08ffe422-f83d-4c21-acc5-b7b864832069"
      },
      "source": [
        "plt.hist(epoch_list)\n",
        "plt.title('Episode Length')\n",
        "plt.xlabel('Episode length')\n",
        "plt.ylabel('Frequency')\n",
        "plt.show()"
      ],
      "execution_count": 46,
      "outputs": [
        {
          "output_type": "display_data",
          "data": {
            "image/png": "[encoded data removed]",
            "text/plain": [
              "<Figure size 576x432 with 1 Axes>"
            ]
          },
          "metadata": {
            "tags": [],
            "needs_background": "light"
          }
        }
      ]
    },
    {
      "cell_type": "code",
      "metadata": {
        "id": "TWSEhQJhd9Vu",
        "colab_type": "code",
        "colab": {
          "base_uri": "https://localhost:8080/",
          "height": 404
        },
        "outputId": "e7ff72f4-9195-4d67-c268-968928024536"
      },
      "source": [
        "plt.hist(reward_list)\n",
        "plt.title('Episode Reward')\n",
        "plt.xlabel('Episode length')\n",
        "plt.ylabel('Frequency')\n",
        "plt.show()"
      ],
      "execution_count": 47,
      "outputs": [
        {
          "output_type": "display_data",
          "data": {
            "image/png": "[encoded data removed]",
            "text/plain": [
              "<Figure size 576x432 with 1 Axes>"
            ]
          },
          "metadata": {
            "tags": [],
            "needs_background": "light"
          }
        }
      ]
    },
    {
      "cell_type": "markdown",
      "metadata": {
        "id": "cj5-hDBWeBiB",
        "colab_type": "text"
      },
      "source": [
        "This is the tabular list of Q-values to determine the best action."
      ]
    },
    {
      "cell_type": "code",
      "metadata": {
        "id": "Gjv6Q8P8eDMs",
        "colab_type": "code",
        "colab": {
          "base_uri": "https://localhost:8080/",
          "height": 238
        },
        "outputId": "d2b8f3f6-0efb-4508-e201-07adb453409f"
      },
      "source": [
        "print(q_table)"
      ],
      "execution_count": 48,
      "outputs": [
        {
          "output_type": "stream",
          "text": [
            "[[  0.           0.           0.           0.           0.\n",
            "    0.        ]\n",
            " [-11.98464353  -9.39828913 -10.86552478 -10.94795935  -5.91024837\n",
            "  -17.30265785]\n",
            " [ -4.59998644   0.50110888  -3.47039957  -1.53866593   2.77871991\n",
            "  -10.59902127]\n",
            " ...\n",
            " [  0.09709084   6.78247791  -0.30852529   0.04817606 -11.54501045\n",
            "   -7.72411362]\n",
            " [-11.06700961 -11.8003215  -10.58064136  -7.81618666 -17.9996234\n",
            "  -16.39633039]\n",
            " [ 10.99077788  10.03431236   9.31175414  17.57370595   4.58465434\n",
            "    4.79872049]]\n"
          ],
          "name": "stdout"
        }
      ]
    },
    {
      "cell_type": "markdown",
      "metadata": {
        "id": "05cm3_G9eL1U",
        "colab_type": "text"
      },
      "source": [
        "Now a small animation testing the agent"
      ]
    },
    {
      "cell_type": "code",
      "metadata": {
        "id": "Vox59j7weLRS",
        "colab_type": "code",
        "colab": {
          "base_uri": "https://localhost:8080/",
          "height": 255
        },
        "outputId": "fe7cebed-1460-415e-abaf-5a8e55782062"
      },
      "source": [
        "frames = []\n",
        "state  = env.reset()\n",
        "\n",
        "\n",
        "for i in range(50):\n",
        "  action = np.argmax(q_table[state,:])\n",
        "  new_state, reward, done, info = env.step(action)\n",
        "  env.render()\n",
        "  print('Done? {}'.format(done))\n",
        "  state = new_state\n",
        "\n",
        "\n",
        "\n",
        "  frames.append({\n",
        "      'frame'  : env.render(mode='ansi'),\n",
        "      'state'  : state,\n",
        "      'action' : action,\n",
        "      'reward' : reward,\n",
        "      'done'   : done\n",
        "  })\n",
        "\n",
        "  if done:\n",
        "    break\n",
        "\n",
        "\n",
        "\n",
        "#animation\n",
        "for i, frame in enumerate(frames):\n",
        "  clear_output(wait=True)\n",
        "  print(frame['frame'])\n",
        "  print(f\"Timestep: {i}\")\n",
        "  print(f\"State: {frame['state']}\")\n",
        "  print(f\"Action: {frame['action']}\")\n",
        "  print(f\"Reward: {frame['reward']}\")\n",
        "  print(f\"Done: {frame['done']}\")\n",
        "  time.sleep(.2)"
      ],
      "execution_count": 59,
      "outputs": [
        {
          "output_type": "stream",
          "text": [
            "+---------+\n",
            "|R: | : :\u001b[35m\u001b[34;1m\u001b[43mG\u001b[0m\u001b[0m\u001b[0m|\n",
            "| : | : : |\n",
            "| : : : : |\n",
            "| | : | : |\n",
            "|Y| : |B: |\n",
            "+---------+\n",
            "  (Dropoff)\n",
            "\n",
            "Timestep: 13\n",
            "State: 85\n",
            "Action: 5\n",
            "Reward: 20\n",
            "Done: True\n"
          ],
          "name": "stdout"
        }
      ]
    }
  ]
}