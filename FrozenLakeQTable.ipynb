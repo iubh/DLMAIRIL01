{
  "nbformat": 4,
  "nbformat_minor": 0,
  "metadata": {
    "colab": {
      "name": "FrozenLakeQTable.ipynb",
      "provenance": [],
      "collapsed_sections": []
    },
    "kernelspec": {
      "name": "python3",
      "display_name": "Python 3"
    }
  },
  "cells": [
    {
      "cell_type": "markdown",
      "metadata": {
        "id": "vmEktNnSRTuY",
        "colab_type": "text"
      },
      "source": [
        "# Grid World - Frozen Lake\n",
        "\n",
        "In this example we will look at [Frozen Lake](https://gym.openai.com/envs/FrozenLake-v0) a simple grid world example from [OpenAI Gym](https://gym.openai.com/). \n",
        "\n",
        "In this world, an agent has to navigate between a starting and an endpoint across a grid of possible positions.\n",
        "In the setting of a frozen lake the agent has to retrieve an object (a frisbee) that has been thrown on the the ice covering the lake.\n",
        "\n",
        "Each grid position is one of:\n",
        "   * S: the starting point\n",
        "   * F: frozen surface, safe to cross\n",
        "   * H: hole, fall into the lake, the episode ends unsuccessfully\n",
        "   * G: goal, object is retrieved and the reward obtained.\n",
        "\n",
        "If the goal G is reached, the episode ends and the agent receives a reward of 1, if the agent falls into a hole, the episode ends and the reward is set to 0.\n",
        "\n",
        "The grid-world can be explored in two settings: deterministic or stochastic.\n",
        "In the deterministic setting, the action of the agent, i.e. in which direction\n",
        "they travel, is always the intended direction.\n",
        "In the stochastic setting, the agent goes into the intended direction with a probability of 1/3, i.e. 0.3333, and into one of two other directions with probability of 1/3.\n",
        "This setting is controlled with the parameter ```is_slippery``` when setting up the environment.\n",
        "\n",
        "Additionally, a larger environment with a 8x8 grid instead of the 4x4 grid used here exists.\n",
        "\n",
        "We will use the deterministic setting in this exercise but you should explore the stochastic one as well."
      ]
    },
    {
      "cell_type": "code",
      "metadata": {
        "id": "HEkQ9pVyTVtM",
        "colab_type": "code",
        "outputId": "00dd4aa7-0285-4560-f2c7-e5c1b3b9e6c6",
        "colab": {
          "base_uri": "https://localhost:8080/",
          "height": 85
        }
      },
      "source": [
        "# required imports\n",
        "\n",
        "import gym\n",
        "import numpy as np\n",
        "import random\n",
        "import matplotlib.pyplot as plt\n",
        "%pylab inline\n",
        "# large figures\n",
        "rcParams['figure.figsize'] = 8, 6\n",
        "\n",
        "# clear the output of the cell to avoid long output lists\n",
        "# see http://ipython.org/ipython-doc/dev/api/generated/IPython.display.html#IPython.display.clear_output\n",
        "from IPython.display import clear_output\n",
        "\n",
        "# for the animation at the end\n",
        "from matplotlib import animation\n",
        "from IPython.display import display\n",
        "import time\n"
      ],
      "execution_count": 1,
      "outputs": [
        {
          "output_type": "stream",
          "text": [
            "Populating the interactive namespace from numpy and matplotlib\n"
          ],
          "name": "stdout"
        },
        {
          "output_type": "stream",
          "text": [
            "/usr/local/lib/python3.6/dist-packages/IPython/core/magics/pylab.py:161: UserWarning: pylab import has clobbered these variables: ['random']\n",
            "`%matplotlib` prevents importing * from pylab and numpy\n",
            "  \"\\n`%matplotlib` prevents importing * from pylab and numpy\"\n"
          ],
          "name": "stderr"
        }
      ]
    },
    {
      "cell_type": "code",
      "metadata": {
        "id": "buw4yFWBQ9GO",
        "colab_type": "code",
        "outputId": "18d1cbbc-7b92-48c7-9889-44150e382b13",
        "colab": {
          "base_uri": "https://localhost:8080/",
          "height": 34
        }
      },
      "source": [
        "# not sure we need it - but check if we're running in Google's free Colaboratory.\n",
        "import sys\n",
        "IN_COLAB = 'google.colab' in sys.modules\n",
        "print (IN_COLAB)"
      ],
      "execution_count": 2,
      "outputs": [
        {
          "output_type": "stream",
          "text": [
            "True\n"
          ],
          "name": "stdout"
        }
      ]
    },
    {
      "cell_type": "markdown",
      "metadata": {
        "id": "fxnSvQZiTOnn",
        "colab_type": "text"
      },
      "source": [
        "## Explore the environment\n",
        "\n",
        "We now load the game engine from OpenAI Gym and look at an example of the frozen lake grid world the agent has to master.\n",
        "\n",
        "The agent always starts in the top left corner."
      ]
    },
    {
      "cell_type": "code",
      "metadata": {
        "id": "rE969o2JTtet",
        "colab_type": "code",
        "outputId": "0f1d8b0c-50aa-4d98-9b5c-6bb7babb7517",
        "colab": {
          "base_uri": "https://localhost:8080/",
          "height": 102
        }
      },
      "source": [
        "# smaller grid with a 4x4 grid  : FrozenLake-v0\n",
        "# larger version with a 8x8 grid: FrozenLake8x8-v0\n",
        "#env = gym.make(\"FrozenLake-v0\", is_slippery=False)\n",
        "env = gym.make(\"FrozenLake-v0\", is_slippery=True)\n",
        "env.reset()\n",
        "env.render()"
      ],
      "execution_count": 4,
      "outputs": [
        {
          "output_type": "stream",
          "text": [
            "\n",
            "\u001b[41mS\u001b[0mFFF\n",
            "FHFH\n",
            "FFFH\n",
            "HFFG\n"
          ],
          "name": "stdout"
        }
      ]
    },
    {
      "cell_type": "markdown",
      "metadata": {
        "id": "s8LE7PeZT8ec",
        "colab_type": "text"
      },
      "source": [
        "The agent can follow one of 4 actions that are available\n",
        "from the ```action_space```. In our case, we can move up, down, left, right.\n",
        "Hence, there are four discrete actions, the specific meaning is encoded\n",
        "in the environment.\n",
        "\n",
        "The environment is based on an nxn grid and hence has $n^2$ states. For the 4x4 Frozen Lake example, this means we have 16 states, one for each position the agent can be on.\n"
      ]
    },
    {
      "cell_type": "code",
      "metadata": {
        "id": "jrFnofZxT8pE",
        "colab_type": "code",
        "outputId": "836e9f53-eb0b-41d6-f206-09e00e2a9247",
        "colab": {
          "base_uri": "https://localhost:8080/",
          "height": 68
        }
      },
      "source": [
        "# there are two ways to obtain the number of actions:\n",
        "# env.nA and env.action_space.n\n",
        "print('Number of actions: {}'.format(env.nA))\n",
        "print('Action space: {}'.format(env.action_space))\n",
        "\n",
        "# there are two ways to obtain the numbers of states: \n",
        "# env.nS and env.observation_space.n\n",
        "print('Number of states: {}'.format(env.nS) )\n"
      ],
      "execution_count": 0,
      "outputs": [
        {
          "output_type": "stream",
          "text": [
            "Number of actions: 4\n",
            "Action space: Discrete(4)\n",
            "Number of states: 16\n"
          ],
          "name": "stdout"
        }
      ]
    },
    {
      "cell_type": "markdown",
      "metadata": {
        "id": "f9RuYbGsVcY4",
        "colab_type": "text"
      },
      "source": [
        "We can try how an agent moves through the grid world if we randomly choose an action - we cannot expect to reach the goal G but we can observe the movement of the agent.\n",
        "\n",
        "We use the method ```step(action)``` to execute an action the agent chooses.\n",
        "This method returns the following values:\n",
        "   * bservation: The next  state of the environment after executing the action, in our case the positon on the grid world\n",
        "   * reward, in our case 0 or 1\n",
        "   * done: indicates that the episode has ended\n",
        "   * info: dictionary with debugging information - agents are not allowed to use this information."
      ]
    },
    {
      "cell_type": "code",
      "metadata": {
        "id": "H3yIa8VoVpuc",
        "colab_type": "code",
        "outputId": "c80be52a-a757-4871-abda-91dd3a529a24",
        "colab": {
          "base_uri": "https://localhost:8080/",
          "height": 782
        }
      },
      "source": [
        "observation = env.reset()\n",
        "for i in range(0,5):\n",
        "  print('Step {}'.format(i))\n",
        "  #visual output\n",
        "  env.render()\n",
        "  print('Observation: {}'.format(observation))\n",
        "\n",
        "  #get a random action\n",
        "  a = env.action_space.sample()\n",
        "  print('Action: {}'.format(a))\n",
        "\n",
        "  #execute the action\n",
        "  observation, reward, done, info =  env.step(a)\n",
        "  print('Reward {}, Info {}'.format(reward, info))\n",
        "\n",
        "  if done:\n",
        "    print('End of episode')\n",
        "    break\n",
        "\n"
      ],
      "execution_count": 0,
      "outputs": [
        {
          "output_type": "stream",
          "text": [
            "Step 0\n",
            "\n",
            "\u001b[41mS\u001b[0mFFF\n",
            "FHFH\n",
            "FFFH\n",
            "HFFG\n",
            "Observation: 0\n",
            "Action: 1\n",
            "Reward 0.0, Info {'prob': 1.0}\n",
            "Step 1\n",
            "  (Down)\n",
            "SFFF\n",
            "\u001b[41mF\u001b[0mHFH\n",
            "FFFH\n",
            "HFFG\n",
            "Observation: 4\n",
            "Action: 3\n",
            "Reward 0.0, Info {'prob': 1.0}\n",
            "Step 2\n",
            "  (Up)\n",
            "\u001b[41mS\u001b[0mFFF\n",
            "FHFH\n",
            "FFFH\n",
            "HFFG\n",
            "Observation: 0\n",
            "Action: 3\n",
            "Reward 0.0, Info {'prob': 1.0}\n",
            "Step 3\n",
            "  (Up)\n",
            "\u001b[41mS\u001b[0mFFF\n",
            "FHFH\n",
            "FFFH\n",
            "HFFG\n",
            "Observation: 0\n",
            "Action: 3\n",
            "Reward 0.0, Info {'prob': 1.0}\n",
            "Step 4\n",
            "  (Up)\n",
            "\u001b[41mS\u001b[0mFFF\n",
            "FHFH\n",
            "FFFH\n",
            "HFFG\n",
            "Observation: 0\n",
            "Action: 2\n",
            "Reward 0.0, Info {'prob': 1.0}\n"
          ],
          "name": "stdout"
        }
      ]
    },
    {
      "cell_type": "markdown",
      "metadata": {
        "id": "0NXD7bfKbepF",
        "colab_type": "text"
      },
      "source": [
        "We can manually set the agent to be in a specific state. In case of the Frozen Lake grid world, setting the state means we move the agent to a specific location on the grid.\n",
        "Starting from 0, the position ```s=2``` is the third position in the first row."
      ]
    },
    {
      "cell_type": "code",
      "metadata": {
        "id": "3W6dmRijbfTI",
        "colab_type": "code",
        "outputId": "b6ee15f6-5a3e-476b-84a5-0a094bd31f85",
        "colab": {
          "base_uri": "https://localhost:8080/",
          "height": 102
        }
      },
      "source": [
        "env.env.s=2\n",
        "env.render()"
      ],
      "execution_count": 0,
      "outputs": [
        {
          "output_type": "stream",
          "text": [
            "  (Right)\n",
            "SF\u001b[41mF\u001b[0mF\n",
            "FHFH\n",
            "FFFH\n",
            "HFFG\n"
          ],
          "name": "stdout"
        }
      ]
    },
    {
      "cell_type": "markdown",
      "metadata": {
        "id": "A5EI1C5Rcz7m",
        "colab_type": "text"
      },
      "source": [
        "The function ```env.P```  represents the transition probabilities and can be used to evaluate the states and rewards for a specific state.\n",
        "It is organized as ```env.P[state][action]``` and contains a list of the variables: ```probability```, ```next state```, ```reward```, ```done```.\n",
        "\n",
        "In the deterministic setting, each transition probability has only one possible next state for each action, in the stochastic setting, each transition can result in one of three possible new states, the probability to end up in any of them is 1/3.\n",
        "\n",
        "For example, for state env.s=2, we would have:"
      ]
    },
    {
      "cell_type": "code",
      "metadata": {
        "id": "dmAOSGkqbcM4",
        "colab_type": "code",
        "outputId": "51329569-8312-47b5-b562-e45d70b34ef8",
        "colab": {
          "base_uri": "https://localhost:8080/",
          "height": 170
        }
      },
      "source": [
        "s=2\n",
        "env.env.s=s\n",
        "env.render()\n",
        "for a in range(0, env.nA):\n",
        "  print('P for State {}, action {}: {}'.format(s,a,env.P[s][a]) )\n"
      ],
      "execution_count": 0,
      "outputs": [
        {
          "output_type": "stream",
          "text": [
            "  (Right)\n",
            "SF\u001b[41mF\u001b[0mF\n",
            "FHFH\n",
            "FFFH\n",
            "HFFG\n",
            "P for State 2, action 0: [(1.0, 1, 0.0, False)]\n",
            "P for State 2, action 1: [(1.0, 6, 0.0, False)]\n",
            "P for State 2, action 2: [(1.0, 3, 0.0, False)]\n",
            "P for State 2, action 3: [(1.0, 2, 0.0, False)]\n"
          ],
          "name": "stdout"
        }
      ]
    },
    {
      "cell_type": "markdown",
      "metadata": {
        "id": "dRWRyiBCypz2",
        "colab_type": "text"
      },
      "source": [
        "## Q-Learning\n",
        "\n",
        "We now use Q-learning to train the agent.\n",
        "In Q learning, we use the best action for a current state (exploitation), apart from a small exploratory part determined by a small probability $\\epsilon$ were we choose a random action to learn how the environment reacts to our actions.\n",
        "\n",
        "The Q-learning update rule is:\n",
        "$$ Q(s,a) \\leftarrow (1-\\alpha) Q(s,a) + \\alpha (r + \\gamma \\,\\mathrm{max}_a Q(s^\\prime,a))$$\n",
        "\n",
        "where $\\alpha$ is the learning rate, $\\gamma$ the discount factor, $s$ is the current state, $s^\\prime$ is the next state and $a$ are all actions.\n",
        "\n",
        "In this implementation we use a tabular approach, i.e. we record all Q-values in a big table.\n",
        "\n",
        "During training, we learn from the environment by executing actions and observe new states and rewards until an episode ends. Then we repeat the process for a large number of episodes to fill the Q-table accurately.\n",
        "\n",
        "Since the environment is stochastic and we can fail easily, the\n",
        "exploration probability needs to be fairly large, though \n",
        "we could decrease it as the training progresses and the Q-value\n",
        "table is filled."
      ]
    },
    {
      "cell_type": "code",
      "metadata": {
        "id": "VR_WJMxmgK5K",
        "colab_type": "code",
        "outputId": "d1c52bf2-439d-455f-d57b-57853ae80515",
        "colab": {
          "base_uri": "https://localhost:8080/",
          "height": 34
        }
      },
      "source": [
        "# greedy exploration probability\n",
        "eps = 0.3\n",
        "\n",
        "# learning rate\n",
        "alpha = 0.3\n",
        "\n",
        "#discount factor\n",
        "gamma = 0.95\n",
        "\n",
        "#number of episodes to train over:\n",
        "n_episodes = 5000\n",
        "\n",
        "# table of Q values\n",
        "q_table = np.zeros([env.nS, env.nA])\n",
        "\n",
        "# counter for how long each epoch lasted\n",
        "epoch_list = []\n",
        "reward_list = []\n",
        "\n",
        "# loop over all episodes \n",
        "# (let the index run from 1 instead of 0 as we would count from 1)\n",
        "for i in range(1, n_episodes+1):\n",
        "  if i% 10 == 0:\n",
        "    clear_output(wait=True)\n",
        "    print('Now in episode {}'.format(i))\n",
        "\n",
        "  # initialize each new episode\n",
        "  state = env.reset()  # set the environment back to starting setting\n",
        "                       # this returns the first observation, i.e. the \n",
        "                       # starting state environment is in.\n",
        "  epochs  = 0          # counter how long a given episode runs until it terminates\n",
        "  rSum    = 0          # overall reward for this episode\n",
        "  done    = False\n",
        "  j       = 0\n",
        "\n",
        "  # now interact with the environment until the episode ends\n",
        "  # i.e. we either reach the goal or fall into a hole\n",
        "  # protect against run-away processes and limit to 500 steps per episode\n",
        "  while not done and j < 500:\n",
        "\n",
        "    j += 1\n",
        "\n",
        "    # choose an action - random action with probability epsilon \n",
        "    #  exploration, best currently known action with probability (1-epsilon)\n",
        "    randNo = random.uniform(0,1)\n",
        "    if randNo < eps:\n",
        "      action = env.action_space.sample() # choose random action\n",
        "    else:\n",
        "      action = np.argmax(q_table[state]) # choose current best action\n",
        "\n",
        "    \n",
        "\n",
        "    # now interact with the environment: execute the action and observe new state\n",
        "    next_state, reward, done, info = env.step(action)\n",
        "    #if reward >0:\n",
        "    #  print ('Reward: {}'.format(reward))\n",
        "\n",
        "    # add a small negative penalty if we're not successful, \n",
        "    # helps to speed up training (at least in deterministic case)\n",
        "    if reward==0 :\n",
        "      reward=-0.001\n",
        "\n",
        "    # update Q-values\n",
        "    Q_now     = q_table[state, action]       # what we currently know from the table\n",
        "    max_value = np.max(q_table[next_state])  # new best Q value\n",
        "\n",
        "    q_table[state, action] = (1-alpha)*Q_now + alpha*(reward + gamma*max_value)\n",
        "\n",
        "\n",
        "    # increase counter\n",
        "    epochs += 1\n",
        "\n",
        "    # save total reward\n",
        "    rSum   += reward\n",
        "\n",
        "    # end of interaction, the new state becomes the current state\n",
        "    state = next_state\n",
        "  else:\n",
        "    epoch_list.append(epochs)\n",
        "    reward_list.append(rSum)\n",
        "\n"
      ],
      "execution_count": 5,
      "outputs": [
        {
          "output_type": "stream",
          "text": [
            "Now in episode 5000\n"
          ],
          "name": "stdout"
        }
      ]
    },
    {
      "cell_type": "code",
      "metadata": {
        "id": "HkWuthLlJPI6",
        "colab_type": "code",
        "outputId": "04ffcb9e-bd89-4b7c-faad-7ff8dff20dd9",
        "colab": {
          "base_uri": "https://localhost:8080/",
          "height": 34
        }
      },
      "source": [
        "#Average number of steps in each episode\n",
        "print(int(np.mean(epoch_list)))"
      ],
      "execution_count": 6,
      "outputs": [
        {
          "output_type": "stream",
          "text": [
            "14\n"
          ],
          "name": "stdout"
        }
      ]
    },
    {
      "cell_type": "markdown",
      "metadata": {
        "id": "QWvKtLwEnjmr",
        "colab_type": "text"
      },
      "source": [
        "How a distribution of how long each episode was, i.e. how long the agent needed\n",
        "to reach the goal or fall into a hole."
      ]
    },
    {
      "cell_type": "code",
      "metadata": {
        "id": "0ovlanUqnkbD",
        "colab_type": "code",
        "outputId": "54bae816-cc06-4559-d4f0-c42903a3eaef",
        "colab": {
          "base_uri": "https://localhost:8080/",
          "height": 295
        }
      },
      "source": [
        "plt.hist(epoch_list)\n",
        "plt.title('Episode Length')\n",
        "plt.xlabel('Episode length')\n",
        "plt.ylabel('Frequency')\n",
        "plt.show()"
      ],
      "execution_count": 7,
      "outputs": [
        {
          "output_type": "display_data",
          "data": {
            "image/png": "[encoded data removed]",
            "text/plain": [
              "<Figure size 432x288 with 1 Axes>"
            ]
          },
          "metadata": {
            "tags": [],
            "needs_background": "light"
          }
        }
      ]
    },
    {
      "cell_type": "code",
      "metadata": {
        "id": "IttAkHl_rSRA",
        "colab_type": "code",
        "outputId": "39ae5e90-6476-4ada-9689-9aac9166203b",
        "colab": {
          "base_uri": "https://localhost:8080/",
          "height": 295
        }
      },
      "source": [
        "plt.hist(reward_list)\n",
        "plt.title('Episode Reward')\n",
        "plt.xlabel('Episode length')\n",
        "plt.ylabel('Frequency')\n",
        "plt.show()"
      ],
      "execution_count": 8,
      "outputs": [
        {
          "output_type": "display_data",
          "data": {
            "image/png": "[encoded data removed]",
            "text/plain": [
              "<Figure size 432x288 with 1 Axes>"
            ]
          },
          "metadata": {
            "tags": [],
            "needs_background": "light"
          }
        }
      ]
    },
    {
      "cell_type": "markdown",
      "metadata": {
        "id": "UqqJhYO6n6Ei",
        "colab_type": "text"
      },
      "source": [
        "This is the tabular list of Q-values to determine the best action.\n",
        "The actions are ordered in the columns as left / down / right  / up"
      ]
    },
    {
      "cell_type": "code",
      "metadata": {
        "id": "ju0irrIQczAq",
        "colab_type": "code",
        "outputId": "535ccfec-004d-450d-83ca-352bf759c05a",
        "colab": {
          "base_uri": "https://localhost:8080/",
          "height": 289
        }
      },
      "source": [
        "print(q_table)"
      ],
      "execution_count": 9,
      "outputs": [
        {
          "output_type": "stream",
          "text": [
            "[[0.13775986 0.10579267 0.11858893 0.11336296]\n",
            " [0.06201256 0.047707   0.04004209 0.08800725]\n",
            " [0.08605525 0.08758808 0.08580799 0.08736809]\n",
            " [0.04915629 0.04522387 0.01921714 0.08567113]\n",
            " [0.12641212 0.09052625 0.11866346 0.10571829]\n",
            " [0.         0.         0.         0.        ]\n",
            " [0.08627082 0.06650097 0.06128341 0.01321445]\n",
            " [0.         0.         0.         0.        ]\n",
            " [0.18417972 0.18786766 0.05422604 0.21394355]\n",
            " [0.30593438 0.30561512 0.25453652 0.16295473]\n",
            " [0.29067408 0.19503914 0.10395681 0.22757036]\n",
            " [0.         0.         0.         0.        ]\n",
            " [0.         0.         0.         0.        ]\n",
            " [0.17645462 0.11448183 0.44945988 0.44081817]\n",
            " [0.55328546 0.57222524 0.50874842 0.55768021]\n",
            " [0.         0.         0.         0.        ]]\n"
          ],
          "name": "stdout"
        }
      ]
    },
    {
      "cell_type": "markdown",
      "metadata": {
        "id": "_zik5O1y_hlp",
        "colab_type": "text"
      },
      "source": [
        "Now let the agent run and see how we reach the goal"
      ]
    },
    {
      "cell_type": "code",
      "metadata": {
        "id": "jjtaqGDrGN7v",
        "colab_type": "code",
        "outputId": "cae7a171-cb61-4d66-d411-115dad9eb25f",
        "colab": {
          "base_uri": "https://localhost:8080/",
          "height": 1000
        }
      },
      "source": [
        "state  = env.reset()\n",
        "\n",
        "\n",
        "for i in range(200):\n",
        "  action = np.argmax(q_table[state,:])\n",
        "  new_state, reward, done, info = env.step(action)\n",
        "  env.render()\n",
        "  print('Done? {}'.format(done))\n",
        "  state = new_state\n",
        "  if done:\n",
        "    print('Episode ends. Reward: {}, Number of steps: {}'.format(reward,i))\n",
        "    break"
      ],
      "execution_count": 13,
      "outputs": [
        {
          "output_type": "stream",
          "text": [
            "  (Left)\n",
            "\u001b[41mS\u001b[0mFFF\n",
            "FHFH\n",
            "FFFH\n",
            "HFFG\n",
            "Done? False\n",
            "  (Left)\n",
            "\u001b[41mS\u001b[0mFFF\n",
            "FHFH\n",
            "FFFH\n",
            "HFFG\n",
            "Done? False\n",
            "  (Left)\n",
            "\u001b[41mS\u001b[0mFFF\n",
            "FHFH\n",
            "FFFH\n",
            "HFFG\n",
            "Done? False\n",
            "  (Left)\n",
            "\u001b[41mS\u001b[0mFFF\n",
            "FHFH\n",
            "FFFH\n",
            "HFFG\n",
            "Done? False\n",
            "  (Left)\n",
            "\u001b[41mS\u001b[0mFFF\n",
            "FHFH\n",
            "FFFH\n",
            "HFFG\n",
            "Done? False\n",
            "  (Left)\n",
            "\u001b[41mS\u001b[0mFFF\n",
            "FHFH\n",
            "FFFH\n",
            "HFFG\n",
            "Done? False\n",
            "  (Left)\n",
            "\u001b[41mS\u001b[0mFFF\n",
            "FHFH\n",
            "FFFH\n",
            "HFFG\n",
            "Done? False\n",
            "  (Left)\n",
            "\u001b[41mS\u001b[0mFFF\n",
            "FHFH\n",
            "FFFH\n",
            "HFFG\n",
            "Done? False\n",
            "  (Left)\n",
            "SFFF\n",
            "\u001b[41mF\u001b[0mHFH\n",
            "FFFH\n",
            "HFFG\n",
            "Done? False\n",
            "  (Left)\n",
            "\u001b[41mS\u001b[0mFFF\n",
            "FHFH\n",
            "FFFH\n",
            "HFFG\n",
            "Done? False\n",
            "  (Left)\n",
            "\u001b[41mS\u001b[0mFFF\n",
            "FHFH\n",
            "FFFH\n",
            "HFFG\n",
            "Done? False\n",
            "  (Left)\n",
            "\u001b[41mS\u001b[0mFFF\n",
            "FHFH\n",
            "FFFH\n",
            "HFFG\n",
            "Done? False\n",
            "  (Left)\n",
            "\u001b[41mS\u001b[0mFFF\n",
            "FHFH\n",
            "FFFH\n",
            "HFFG\n",
            "Done? False\n",
            "  (Left)\n",
            "\u001b[41mS\u001b[0mFFF\n",
            "FHFH\n",
            "FFFH\n",
            "HFFG\n",
            "Done? False\n",
            "  (Left)\n",
            "SFFF\n",
            "\u001b[41mF\u001b[0mHFH\n",
            "FFFH\n",
            "HFFG\n",
            "Done? False\n",
            "  (Left)\n",
            "\u001b[41mS\u001b[0mFFF\n",
            "FHFH\n",
            "FFFH\n",
            "HFFG\n",
            "Done? False\n",
            "  (Left)\n",
            "\u001b[41mS\u001b[0mFFF\n",
            "FHFH\n",
            "FFFH\n",
            "HFFG\n",
            "Done? False\n",
            "  (Left)\n",
            "\u001b[41mS\u001b[0mFFF\n",
            "FHFH\n",
            "FFFH\n",
            "HFFG\n",
            "Done? False\n",
            "  (Left)\n",
            "\u001b[41mS\u001b[0mFFF\n",
            "FHFH\n",
            "FFFH\n",
            "HFFG\n",
            "Done? False\n",
            "  (Left)\n",
            "\u001b[41mS\u001b[0mFFF\n",
            "FHFH\n",
            "FFFH\n",
            "HFFG\n",
            "Done? False\n",
            "  (Left)\n",
            "SFFF\n",
            "\u001b[41mF\u001b[0mHFH\n",
            "FFFH\n",
            "HFFG\n",
            "Done? False\n",
            "  (Left)\n",
            "\u001b[41mS\u001b[0mFFF\n",
            "FHFH\n",
            "FFFH\n",
            "HFFG\n",
            "Done? False\n",
            "  (Left)\n",
            "\u001b[41mS\u001b[0mFFF\n",
            "FHFH\n",
            "FFFH\n",
            "HFFG\n",
            "Done? False\n",
            "  (Left)\n",
            "\u001b[41mS\u001b[0mFFF\n",
            "FHFH\n",
            "FFFH\n",
            "HFFG\n",
            "Done? False\n",
            "  (Left)\n",
            "SFFF\n",
            "\u001b[41mF\u001b[0mHFH\n",
            "FFFH\n",
            "HFFG\n",
            "Done? False\n",
            "  (Left)\n",
            "\u001b[41mS\u001b[0mFFF\n",
            "FHFH\n",
            "FFFH\n",
            "HFFG\n",
            "Done? False\n",
            "  (Left)\n",
            "SFFF\n",
            "\u001b[41mF\u001b[0mHFH\n",
            "FFFH\n",
            "HFFG\n",
            "Done? False\n",
            "  (Left)\n",
            "SFFF\n",
            "\u001b[41mF\u001b[0mHFH\n",
            "FFFH\n",
            "HFFG\n",
            "Done? False\n",
            "  (Left)\n",
            "SFFF\n",
            "\u001b[41mF\u001b[0mHFH\n",
            "FFFH\n",
            "HFFG\n",
            "Done? False\n",
            "  (Left)\n",
            "SFFF\n",
            "\u001b[41mF\u001b[0mHFH\n",
            "FFFH\n",
            "HFFG\n",
            "Done? False\n",
            "  (Left)\n",
            "\u001b[41mS\u001b[0mFFF\n",
            "FHFH\n",
            "FFFH\n",
            "HFFG\n",
            "Done? False\n",
            "  (Left)\n",
            "\u001b[41mS\u001b[0mFFF\n",
            "FHFH\n",
            "FFFH\n",
            "HFFG\n",
            "Done? False\n",
            "  (Left)\n",
            "\u001b[41mS\u001b[0mFFF\n",
            "FHFH\n",
            "FFFH\n",
            "HFFG\n",
            "Done? False\n",
            "  (Left)\n",
            "SFFF\n",
            "\u001b[41mF\u001b[0mHFH\n",
            "FFFH\n",
            "HFFG\n",
            "Done? False\n",
            "  (Left)\n",
            "SFFF\n",
            "\u001b[41mF\u001b[0mHFH\n",
            "FFFH\n",
            "HFFG\n",
            "Done? False\n",
            "  (Left)\n",
            "\u001b[41mS\u001b[0mFFF\n",
            "FHFH\n",
            "FFFH\n",
            "HFFG\n",
            "Done? False\n",
            "  (Left)\n",
            "\u001b[41mS\u001b[0mFFF\n",
            "FHFH\n",
            "FFFH\n",
            "HFFG\n",
            "Done? False\n",
            "  (Left)\n",
            "\u001b[41mS\u001b[0mFFF\n",
            "FHFH\n",
            "FFFH\n",
            "HFFG\n",
            "Done? False\n",
            "  (Left)\n",
            "\u001b[41mS\u001b[0mFFF\n",
            "FHFH\n",
            "FFFH\n",
            "HFFG\n",
            "Done? False\n",
            "  (Left)\n",
            "SFFF\n",
            "\u001b[41mF\u001b[0mHFH\n",
            "FFFH\n",
            "HFFG\n",
            "Done? False\n",
            "  (Left)\n",
            "SFFF\n",
            "\u001b[41mF\u001b[0mHFH\n",
            "FFFH\n",
            "HFFG\n",
            "Done? False\n",
            "  (Left)\n",
            "\u001b[41mS\u001b[0mFFF\n",
            "FHFH\n",
            "FFFH\n",
            "HFFG\n",
            "Done? False\n",
            "  (Left)\n",
            "\u001b[41mS\u001b[0mFFF\n",
            "FHFH\n",
            "FFFH\n",
            "HFFG\n",
            "Done? False\n",
            "  (Left)\n",
            "\u001b[41mS\u001b[0mFFF\n",
            "FHFH\n",
            "FFFH\n",
            "HFFG\n",
            "Done? False\n",
            "  (Left)\n",
            "\u001b[41mS\u001b[0mFFF\n",
            "FHFH\n",
            "FFFH\n",
            "HFFG\n",
            "Done? False\n",
            "  (Left)\n",
            "SFFF\n",
            "\u001b[41mF\u001b[0mHFH\n",
            "FFFH\n",
            "HFFG\n",
            "Done? False\n",
            "  (Left)\n",
            "SFFF\n",
            "\u001b[41mF\u001b[0mHFH\n",
            "FFFH\n",
            "HFFG\n",
            "Done? False\n",
            "  (Left)\n",
            "SFFF\n",
            "\u001b[41mF\u001b[0mHFH\n",
            "FFFH\n",
            "HFFG\n",
            "Done? False\n",
            "  (Left)\n",
            "SFFF\n",
            "FHFH\n",
            "\u001b[41mF\u001b[0mFFH\n",
            "HFFG\n",
            "Done? False\n",
            "  (Up)\n",
            "SFFF\n",
            "FHFH\n",
            "\u001b[41mF\u001b[0mFFH\n",
            "HFFG\n",
            "Done? False\n",
            "  (Up)\n",
            "SFFF\n",
            "FHFH\n",
            "\u001b[41mF\u001b[0mFFH\n",
            "HFFG\n",
            "Done? False\n",
            "  (Up)\n",
            "SFFF\n",
            "\u001b[41mF\u001b[0mHFH\n",
            "FFFH\n",
            "HFFG\n",
            "Done? False\n",
            "  (Left)\n",
            "\u001b[41mS\u001b[0mFFF\n",
            "FHFH\n",
            "FFFH\n",
            "HFFG\n",
            "Done? False\n",
            "  (Left)\n",
            "\u001b[41mS\u001b[0mFFF\n",
            "FHFH\n",
            "FFFH\n",
            "HFFG\n",
            "Done? False\n",
            "  (Left)\n",
            "\u001b[41mS\u001b[0mFFF\n",
            "FHFH\n",
            "FFFH\n",
            "HFFG\n",
            "Done? False\n",
            "  (Left)\n",
            "\u001b[41mS\u001b[0mFFF\n",
            "FHFH\n",
            "FFFH\n",
            "HFFG\n",
            "Done? False\n",
            "  (Left)\n",
            "\u001b[41mS\u001b[0mFFF\n",
            "FHFH\n",
            "FFFH\n",
            "HFFG\n",
            "Done? False\n",
            "  (Left)\n",
            "SFFF\n",
            "\u001b[41mF\u001b[0mHFH\n",
            "FFFH\n",
            "HFFG\n",
            "Done? False\n",
            "  (Left)\n",
            "\u001b[41mS\u001b[0mFFF\n",
            "FHFH\n",
            "FFFH\n",
            "HFFG\n",
            "Done? False\n",
            "  (Left)\n",
            "\u001b[41mS\u001b[0mFFF\n",
            "FHFH\n",
            "FFFH\n",
            "HFFG\n",
            "Done? False\n",
            "  (Left)\n",
            "\u001b[41mS\u001b[0mFFF\n",
            "FHFH\n",
            "FFFH\n",
            "HFFG\n",
            "Done? False\n",
            "  (Left)\n",
            "\u001b[41mS\u001b[0mFFF\n",
            "FHFH\n",
            "FFFH\n",
            "HFFG\n",
            "Done? False\n",
            "  (Left)\n",
            "\u001b[41mS\u001b[0mFFF\n",
            "FHFH\n",
            "FFFH\n",
            "HFFG\n",
            "Done? False\n",
            "  (Left)\n",
            "\u001b[41mS\u001b[0mFFF\n",
            "FHFH\n",
            "FFFH\n",
            "HFFG\n",
            "Done? False\n",
            "  (Left)\n",
            "SFFF\n",
            "\u001b[41mF\u001b[0mHFH\n",
            "FFFH\n",
            "HFFG\n",
            "Done? False\n",
            "  (Left)\n",
            "\u001b[41mS\u001b[0mFFF\n",
            "FHFH\n",
            "FFFH\n",
            "HFFG\n",
            "Done? False\n",
            "  (Left)\n",
            "\u001b[41mS\u001b[0mFFF\n",
            "FHFH\n",
            "FFFH\n",
            "HFFG\n",
            "Done? False\n",
            "  (Left)\n",
            "SFFF\n",
            "\u001b[41mF\u001b[0mHFH\n",
            "FFFH\n",
            "HFFG\n",
            "Done? False\n",
            "  (Left)\n",
            "\u001b[41mS\u001b[0mFFF\n",
            "FHFH\n",
            "FFFH\n",
            "HFFG\n",
            "Done? False\n",
            "  (Left)\n",
            "\u001b[41mS\u001b[0mFFF\n",
            "FHFH\n",
            "FFFH\n",
            "HFFG\n",
            "Done? False\n",
            "  (Left)\n",
            "\u001b[41mS\u001b[0mFFF\n",
            "FHFH\n",
            "FFFH\n",
            "HFFG\n",
            "Done? False\n",
            "  (Left)\n",
            "\u001b[41mS\u001b[0mFFF\n",
            "FHFH\n",
            "FFFH\n",
            "HFFG\n",
            "Done? False\n",
            "  (Left)\n",
            "\u001b[41mS\u001b[0mFFF\n",
            "FHFH\n",
            "FFFH\n",
            "HFFG\n",
            "Done? False\n",
            "  (Left)\n",
            "\u001b[41mS\u001b[0mFFF\n",
            "FHFH\n",
            "FFFH\n",
            "HFFG\n",
            "Done? False\n",
            "  (Left)\n",
            "SFFF\n",
            "\u001b[41mF\u001b[0mHFH\n",
            "FFFH\n",
            "HFFG\n",
            "Done? False\n",
            "  (Left)\n",
            "\u001b[41mS\u001b[0mFFF\n",
            "FHFH\n",
            "FFFH\n",
            "HFFG\n",
            "Done? False\n",
            "  (Left)\n",
            "\u001b[41mS\u001b[0mFFF\n",
            "FHFH\n",
            "FFFH\n",
            "HFFG\n",
            "Done? False\n",
            "  (Left)\n",
            "SFFF\n",
            "\u001b[41mF\u001b[0mHFH\n",
            "FFFH\n",
            "HFFG\n",
            "Done? False\n",
            "  (Left)\n",
            "SFFF\n",
            "FHFH\n",
            "\u001b[41mF\u001b[0mFFH\n",
            "HFFG\n",
            "Done? False\n",
            "  (Up)\n",
            "SFFF\n",
            "FHFH\n",
            "\u001b[41mF\u001b[0mFFH\n",
            "HFFG\n",
            "Done? False\n",
            "  (Up)\n",
            "SFFF\n",
            "FHFH\n",
            "F\u001b[41mF\u001b[0mFH\n",
            "HFFG\n",
            "Done? False\n",
            "  (Left)\n",
            "SFFF\n",
            "FHFH\n",
            "FFFH\n",
            "H\u001b[41mF\u001b[0mFG\n",
            "Done? False\n",
            "  (Right)\n",
            "SFFF\n",
            "FHFH\n",
            "FFFH\n",
            "H\u001b[41mF\u001b[0mFG\n",
            "Done? False\n",
            "  (Right)\n",
            "SFFF\n",
            "FHFH\n",
            "FFFH\n",
            "HF\u001b[41mF\u001b[0mG\n",
            "Done? False\n",
            "  (Down)\n",
            "SFFF\n",
            "FHFH\n",
            "FFFH\n",
            "HFF\u001b[41mG\u001b[0m\n",
            "Done? True\n",
            "Episode ends. Reward: 1.0, Number of steps: 84\n"
          ],
          "name": "stdout"
        }
      ]
    },
    {
      "cell_type": "markdown",
      "metadata": {
        "id": "OIeLf91onNRG",
        "colab_type": "text"
      },
      "source": [
        "Show the same thing but as an animation at the end."
      ]
    },
    {
      "cell_type": "code",
      "metadata": {
        "id": "FkOrOuLIJsdy",
        "colab_type": "code",
        "outputId": "bba72378-d39d-407f-b16c-b57e30750f9f",
        "colab": {
          "base_uri": "https://localhost:8080/",
          "height": 204
        }
      },
      "source": [
        "frames = []\n",
        "state  = env.reset()\n",
        "max_iter = 250\n",
        "\n",
        "for i in range(200):\n",
        "  action = np.argmax(q_table[state,:])\n",
        "  new_state, reward, done, info = env.step(action)\n",
        "  env.render()\n",
        "  print('Done? {}'.format(done))\n",
        "  state = new_state\n",
        "\n",
        "\n",
        "\n",
        "  frames.append({\n",
        "      'frame'  : env.render(mode='ansi'),\n",
        "      'state'  : state,\n",
        "      'action' : action,\n",
        "      'reward' : reward,\n",
        "      'done'   : done\n",
        "  })\n",
        "\n",
        "  if done:\n",
        "    break\n",
        "\n",
        "print(len(frames))\n",
        "\n",
        "for i, frame in enumerate(frames):\n",
        "  clear_output(wait=True)\n",
        "  print(frame['frame'])\n",
        "  print(f\"Timestep: {i}\")\n",
        "  print(f\"State: {frame['state']}\")\n",
        "  print(f\"Action: {frame['action']}\")\n",
        "  print(f\"Reward: {frame['reward']}\")\n",
        "  print(f\"Done: {frame['done']}\")\n",
        "  time.sleep(.2)\n",
        "\n"
      ],
      "execution_count": 18,
      "outputs": [
        {
          "output_type": "stream",
          "text": [
            "  (Down)\n",
            "SFFF\n",
            "FHFH\n",
            "FFFH\n",
            "HFF\u001b[41mG\u001b[0m\n",
            "\n",
            "Timestep: 39\n",
            "State: 15\n",
            "Action: 1\n",
            "Reward: 1.0\n",
            "Done: True\n"
          ],
          "name": "stdout"
        }
      ]
    }
  ]
}